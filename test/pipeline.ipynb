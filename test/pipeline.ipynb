{
 "cells": [
  {
   "cell_type": "markdown",
   "metadata": {},
   "source": [
    "# Notebook as a pipeline test"
   ]
  },
  {
   "cell_type": "code",
   "execution_count": null,
   "metadata": {},
   "outputs": [],
   "source": [
    "%load_ext calkit.magics"
   ]
  },
  {
   "cell_type": "code",
   "execution_count": null,
   "metadata": {},
   "outputs": [],
   "source": [
    "%%stage --name get-data-pickle --out df\n",
    "\n",
    "import pandas as pd\n",
    "\n",
    "df = pd.DataFrame({\"col1\": range(1000)})\n",
    "df.describe()"
   ]
  },
  {
   "cell_type": "code",
   "execution_count": null,
   "metadata": {},
   "outputs": [],
   "source": [
    "%%stage --name get-data --out df:parquet:pandas\n",
    "\n",
    "import pandas as pd\n",
    "import time\n",
    "\n",
    "time.sleep(10)\n",
    "\n",
    "df = pd.DataFrame({\"col1\": range(1000)})\n",
    "df.describe()"
   ]
  },
  {
   "cell_type": "code",
   "execution_count": null,
   "metadata": {},
   "outputs": [],
   "source": [
    "%%stage --name plot --dep get-data:df:parquet:pandas --out fig\n",
    "\n",
    "fig = df.plot(backend=\"plotly\")\n",
    "fig"
   ]
  },
  {
   "cell_type": "code",
   "execution_count": null,
   "metadata": {},
   "outputs": [],
   "source": [
    "%%stage \\\n",
    "    --name plot-fig \\\n",
    "    --dep get-data:df:parquet:pandas \\\n",
    "    --out fig \\\n",
    "    --out-path figures/plot.png \\\n",
    "    --out-type figure \\\n",
    "    --out-title \"A plot of the data\" \\\n",
    "    --out-desc \"This is a plot of the data.\"\n",
    "\n",
    "import os\n",
    "\n",
    "os.makedirs(\"figures\", exist_ok=True)\n",
    "\n",
    "fig = df.plot(backend=\"plotly\")\n",
    "fig.write_image(\"figures/plot.png\")\n",
    "fig"
   ]
  }
 ],
 "metadata": {
  "kernelspec": {
   "display_name": "base",
   "language": "python",
   "name": "python3"
  },
  "language_info": {
   "name": "python",
   "version": "3.12.4"
  }
 },
 "nbformat": 4,
 "nbformat_minor": 2
}
