{
 "cells": [
  {
   "cell_type": "code",
   "execution_count": null,
   "metadata": {},
   "outputs": [],
   "source": [
    "import calkit\n",
    "\n",
    "# Print out the plan of this study\n",
    "plan = calkit.get_plan()\n",
    "\n",
    "# Describe this project\n",
    "project = calkit.get_project()\n",
    "\n",
    "# What are the questions?\n",
    "print(project.questions)\n",
    "\n",
    "# Get the status of the project, i.e., how many more simulations are there\n",
    "# left to run\n",
    "# is everything post-processed?\n",
    "status = calkit.get_status()\n",
    "\n",
    "# By default this will run any non-finished simulations locally\n",
    "calkit.run()"
   ]
  }
 ],
 "metadata": {
  "language_info": {
   "name": "python"
  }
 },
 "nbformat": 4,
 "nbformat_minor": 2
}
