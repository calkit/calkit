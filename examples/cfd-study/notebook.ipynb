{
 "cells": [
  {
   "cell_type": "code",
   "execution_count": null,
   "metadata": {},
   "outputs": [],
   "source": [
    "import knoki\n",
    "\n",
    "# Print out the plan of this study\n",
    "plan = knoki.get_plan()\n",
    "\n",
    "# Describe this project\n",
    "project = knoki.get_project()\n",
    "\n",
    "# What are the questions?\n",
    "print(project.questions)\n",
    "\n",
    "# Get the status of the project, i.e., how many more simulations are there\n",
    "# left to run\n",
    "# is everything post-processed?\n",
    "status = knoki.get_status()\n",
    "\n",
    "# By default this will run any non-finished simulations locally\n",
    "knoki.run()"
   ]
  },
  {
   "cell_type": "code",
   "execution_count": null,
   "metadata": {},
   "outputs": [],
   "source": []
  }
 ],
 "metadata": {
  "language_info": {
   "name": "python"
  }
 },
 "nbformat": 4,
 "nbformat_minor": 2
}
